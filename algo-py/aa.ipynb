{
 "cells": [
  {
   "cell_type": "code",
   "execution_count": null,
   "id": "initial_id",
   "metadata": {
    "collapsed": true,
    "is_executing": true
   },
   "outputs": [],
   "source": [
    "def solution(friends, gifts):\n",
    "    answer = 0\n",
    "    cntMap = {}\n",
    "    for gift in gifts:\n",
    "        names = gift.split()\n",
    "        from_ = names[0]\n",
    "        to = names[1]\n",
    "        if (from_, to) in cntMap:\n",
    "            cntMap[(from_, to)] += 1\n",
    "        elif (to, from_) in cntMap:\n",
    "            cntMap[(to, from_)] -= 1\n",
    "        else:\n",
    "            cntMap[(from_, to)] = 0\n",
    "\n",
    "    for k, v in cntMap.items():\n",
    "        if answer is None:\n",
    "            answer = v\n",
    "        elif answer < v:\n",
    "            answer = v\n",
    "    return answer\n",
    "\n",
    "solution([\"muzi\", \"ryan\", \"frodo\", \"neo\"], [\"muzi frodo\", \"muzi frodo\", \"ryan muzi\", \"ryan muzi\", \"ryan muzi\", \"frodo muzi\", \"frodo ryan\", \"neo muzi\"])"
   ]
  },
  {
   "cell_type": "code",
   "outputs": [],
   "source": [],
   "metadata": {
    "collapsed": false
   },
   "id": "fd1583bb72c51f0"
  }
 ],
 "metadata": {
  "kernelspec": {
   "display_name": "Python 3",
   "language": "python",
   "name": "python3"
  },
  "language_info": {
   "codemirror_mode": {
    "name": "ipython",
    "version": 2
   },
   "file_extension": ".py",
   "mimetype": "text/x-python",
   "name": "python",
   "nbconvert_exporter": "python",
   "pygments_lexer": "ipython2",
   "version": "2.7.6"
  }
 },
 "nbformat": 4,
 "nbformat_minor": 5
}
